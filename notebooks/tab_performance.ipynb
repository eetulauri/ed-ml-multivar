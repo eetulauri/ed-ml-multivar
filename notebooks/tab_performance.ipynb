{
 "cells": [
  {
   "cell_type": "code",
   "execution_count": null,
   "id": "42feb5c5-74b0-4a95-99d0-a97d38563e92",
   "metadata": {},
   "outputs": [],
   "source": [
    "import pandas as pd\n",
    "from pyprojroot import here\n",
    "import numpy as np\n",
    "from pathlib import Path\n",
    "\n",
    "from sklearn.metrics import mean_squared_error, mean_absolute_error\n",
    "from scipy.stats import kruskal, ranksums\n",
    "import scikit_posthocs as sp\n",
    "\n",
    "from nutils import interval_score, bootstrap, name_mask, pairwise"
   ]
  },
  {
   "cell_type": "code",
   "execution_count": null,
   "id": "0c5cbdd1-2309-4e6d-bb8e-68b910e7a195",
   "metadata": {},
   "outputs": [],
   "source": [
    "def root_mean_squared_error(y_true, y_pred):\n",
    "    return mean_squared_error(y_true, y_pred, squared=False)"
   ]
  },
  {
   "cell_type": "code",
   "execution_count": null,
   "id": "11bd9649-c9d1-4a4e-b8f7-62fb71df67cd",
   "metadata": {},
   "outputs": [],
   "source": [
    "TARGET = 'occ'"
   ]
  },
  {
   "cell_type": "code",
   "execution_count": null,
   "id": "abddec5c-9d34-4724-a843-8272723be1fc",
   "metadata": {},
   "outputs": [],
   "source": [
    "true_matrix = pd.read_csv(\n",
    "    here() / f'data/processed/true_matrices/{TARGET}.csv',\n",
    "    index_col='datetime',\n",
    "    parse_dates=True\n",
    ")"
   ]
  },
  {
   "cell_type": "code",
   "execution_count": null,
   "id": "e111d6b8-6b10-4e9b-bb5d-f717a4bad09b",
   "metadata": {},
   "outputs": [],
   "source": [
    "result_list = list()\n",
    "error_list = list()\n",
    "data_path = Path('data/processed/prediction_matrices/')\n",
    "\n",
    "for p in here(data_path / '50').glob('*1.csv'):\n",
    "    \n",
    "    result = dict()\n",
    "    \n",
    "    parts = p.stem.split('-')\n",
    "    \n",
    "    result['Model'] = parts[1]\n",
    "    result['FS'] = parts[2]\n",
    "    name = parts[1] + '-' + parts[2]\n",
    "    result['name'] = name\n",
    "    \n",
    "    pred_matrix = pd.read_csv(\n",
    "        p, \n",
    "        index_col='datetime', \n",
    "        parse_dates=True)\n",
    "    \n",
    "    idx = pred_matrix.dropna().index.intersection(true_matrix.dropna().index)\n",
    "\n",
    "    pred_vector = pred_matrix.loc[idx].values.flatten()\n",
    "    true_vector = true_matrix.loc[idx].values.flatten()\n",
    "    \n",
    "    # error for tests\n",
    "    error = np.abs(pred_vector - true_vector)\n",
    "    error = pd.Series(error, name=name)\n",
    "    error_list.append(error)\n",
    "\n",
    "    # mae\n",
    "    mae = mean_absolute_error(true_vector, pred_vector)\n",
    "    lb, ub = bootstrap(true_vector, pred_vector, mean_absolute_error)\n",
    "    result['MAE'] = f'{mae:.2f} ({lb:.2f}-{ub:.2f})'\n",
    "    result['_mae'] = mae\n",
    "    \n",
    "    # rmse \n",
    "    rmse = root_mean_squared_error(true_vector, pred_vector)\n",
    "    lb, ub = bootstrap(true_vector, pred_vector, root_mean_squared_error)\n",
    "    result['RMSE'] = f'{rmse:.2f} ({lb:.2f}-{ub:.2f})'\n",
    "    result['_rmse'] = rmse\n",
    "    \n",
    "    # msis\n",
    "    if result['Model'] != 'sn':\n",
    "        lb = pd.read_csv(here() / data_path / '05' / f'{p.stem}.csv', \n",
    "                         parse_dates=True, \n",
    "                         index_col='datetime').loc[idx].values.flatten()\n",
    "        ub = pd.read_csv(here() / data_path / '95' / f'{p.stem}.csv',\n",
    "                         parse_dates=True, \n",
    "                         index_col='datetime').loc[idx].values.flatten()\n",
    "        \n",
    "        result['MSIS'] = interval_score(\n",
    "            true_vector, \n",
    "            0.05, \n",
    "            q_left=lb, \n",
    "            q_right=ub, \n",
    "            mean=True, \n",
    "            scaled=True, \n",
    "            seasonality=24)\n",
    "    \n",
    "    result_list.append(result)"
   ]
  },
  {
   "cell_type": "code",
   "execution_count": null,
   "id": "63e471a5-9d0e-4565-9093-0d36e6dc4251",
   "metadata": {},
   "outputs": [],
   "source": [
    "df = pd.DataFrame(result_list)"
   ]
  },
  {
   "cell_type": "code",
   "execution_count": null,
   "id": "2f04d7bb-3c1f-49c0-8df6-d887dcae8559",
   "metadata": {},
   "outputs": [],
   "source": [
    "# Statistical tests\n",
    "errors = pd.concat(error_list, axis=1)\n",
    "s, p = kruskal(*errors.values, nan_policy='omit')\n",
    "errors = errors.melt()\n",
    "table = sp.posthoc_dunn(errors, val_col='value', group_col='variable', p_adjust='holm')\n",
    "values = table.iloc[:,0].round(3)"
   ]
  },
  {
   "cell_type": "code",
   "execution_count": null,
   "id": "4fc866b9",
   "metadata": {},
   "outputs": [],
   "source": [
    "# Process test results\n",
    "values = values.replace(0.000, '<.001')\n",
    "values = values.replace(1.0, '1.000')\n",
    "values['arimax-u'] = np.nan\n",
    "values.name = 'p'\n",
    "df = df.join(values, on='name')"
   ]
  },
  {
   "cell_type": "code",
   "execution_count": null,
   "id": "611d2ead-db7b-418f-a529-f1ed36e129a3",
   "metadata": {},
   "outputs": [],
   "source": [
    "# Calculate delta\n",
    "baseline = df[df.Model=='arimax']._mae.values[0]\n",
    "df['Delta (%)'] = ((baseline - df._mae) / baseline) * 100\n",
    "df['Delta (%)'] = df['Delta (%)'].round(0)\n",
    "df['Delta (%)'] = df['Delta (%)'].astype(int)\n",
    "df = df.drop(columns='_mae')"
   ]
  },
  {
   "cell_type": "code",
   "execution_count": null,
   "id": "bd1138ba-5fc7-4835-90ff-7d4345ddac3b",
   "metadata": {},
   "outputs": [],
   "source": [
    "# Sort\n",
    "df = df.sort_values(by='_rmse', ascending=False)\n",
    "df = df.drop(columns='_rmse')\n",
    "\n",
    "df.Model.replace(name_mask, inplace=True)\n",
    "df = df.set_index('Model')"
   ]
  },
  {
   "cell_type": "code",
   "execution_count": null,
   "id": "8bf0adf3-bfeb-42ff-b51d-2ea82b1305b1",
   "metadata": {},
   "outputs": [],
   "source": [
    "# Reorganize columns\n",
    "df = df[['FS', 'MAE', 'Delta (%)', 'p', 'RMSE', 'MSIS']]"
   ]
  },
  {
   "cell_type": "code",
   "execution_count": null,
   "id": "94b73108-9e71-4adb-8e6c-2daec1947596",
   "metadata": {},
   "outputs": [],
   "source": [
    "df.MSIS = df.MSIS.round(0)\n",
    "df.MSIS = df.MSIS.fillna(200)\n",
    "df.MSIS = df.MSIS.astype(int)\n",
    "df.MSIS = df.MSIS.replace(200, '-')"
   ]
  },
  {
   "cell_type": "code",
   "execution_count": null,
   "id": "01b2be87-4be4-4bec-94a9-f7890d6a0072",
   "metadata": {},
   "outputs": [],
   "source": [
    "df.FS = df.FS.str.upper()"
   ]
  },
  {
   "cell_type": "code",
   "execution_count": null,
   "id": "05866668",
   "metadata": {
    "tags": []
   },
   "outputs": [],
   "source": [
    "df.to_latex(\n",
    "    buf = here() / 'output/tables/performance.tex',\n",
    "    #float_format='%.0f',\n",
    "    column_format='rcccccc',\n",
    "    label='tab:performance',\n",
    "    caption='Continuous performance of the tested models.\\\n",
    "    FS = feature set, MAE = mean absolute error, \\\n",
    "    RMSE = mean squared error, \\\n",
    "    MSIS = mean scaled interval score. \\\n",
    "    95\\% confidence intervals in parenthesis.',\n",
    "    position='H',\n",
    "    index=True,\n",
    "    na_rep='-'\n",
    ")"
   ]
  }
 ],
 "metadata": {
  "kernelspec": {
   "display_name": "ed-tft-3",
   "language": "python",
   "name": "ed-tft-3"
  },
  "language_info": {
   "codemirror_mode": {
    "name": "ipython",
    "version": 3
   },
   "file_extension": ".py",
   "mimetype": "text/x-python",
   "name": "python",
   "nbconvert_exporter": "python",
   "pygments_lexer": "ipython3",
   "version": "3.11.4"
  }
 },
 "nbformat": 4,
 "nbformat_minor": 5
}
