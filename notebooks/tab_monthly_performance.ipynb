{
 "cells": [
  {
   "cell_type": "code",
   "execution_count": null,
   "id": "8e89bce1-c639-4358-8c40-b0f24b47e548",
   "metadata": {},
   "outputs": [],
   "source": [
    "import pandas as pd\n",
    "from pyprojroot import here\n",
    "import numpy as np\n",
    "from pathlib import Path\n",
    "\n",
    "from sklearn.metrics import mean_squared_error, mean_absolute_error\n",
    "from scipy.stats import kruskal, ranksums\n",
    "import scikit_posthocs as sp\n",
    "\n",
    "from nutils import interval_score, bootstrap, name_mask, pairwise"
   ]
  },
  {
   "cell_type": "code",
   "execution_count": null,
   "id": "0333334a-2765-48ba-a7c5-4064d2b1b9df",
   "metadata": {},
   "outputs": [],
   "source": [
    "TARGET = 'occ'"
   ]
  },
  {
   "cell_type": "code",
   "execution_count": null,
   "id": "d241651c-d946-482b-be1d-0f694a723dc8",
   "metadata": {},
   "outputs": [],
   "source": [
    "true_matrix = pd.read_csv(\n",
    "    here() / f'data/processed/true_matrices/{TARGET}.csv',\n",
    "    index_col='datetime',\n",
    "    parse_dates=True\n",
    ")"
   ]
  },
  {
   "cell_type": "code",
   "execution_count": null,
   "id": "a4ae2999-8f55-465e-85dc-ffa35a43084d",
   "metadata": {},
   "outputs": [],
   "source": [
    "def flatten(matrix):\n",
    "    return matrix.values.flatten()"
   ]
  },
  {
   "cell_type": "code",
   "execution_count": null,
   "id": "a46859f7-6b68-42f0-813a-5df2ae9ca69e",
   "metadata": {},
   "outputs": [],
   "source": [
    "result_list = list()\n",
    "error_list = list()\n",
    "data_path = Path('data/processed/prediction_matrices/')\n",
    "\n",
    "for p in here(data_path / '50').glob('*1.csv'):\n",
    "    \n",
    "    result = dict()\n",
    "    \n",
    "    parts = p.stem.split('-')\n",
    "    \n",
    "    result['Model'] = parts[1]\n",
    "    result['FS'] = parts[2]\n",
    "    name = parts[1] + '-' + parts[2]\n",
    "    \n",
    "    pred_matrix = pd.read_csv(\n",
    "        p, \n",
    "        index_col='datetime', \n",
    "        parse_dates=True)\n",
    "    \n",
    "    idx = pred_matrix.dropna().index.intersection(true_matrix.dropna().index)\n",
    "\n",
    "    pred_matrix = pred_matrix.loc[idx]\n",
    "    true_matrix = true_matrix.loc[idx]\n",
    "    \n",
    "    true = true_matrix.groupby(true_matrix.index.month).apply(flatten).to_dict()\n",
    "    pred = pred_matrix.groupby(pred_matrix.index.month).apply(flatten).to_dict()\n",
    "    \n",
    "    for month in range(1,13):\n",
    "        rmse = mean_squared_error(true[month], pred[month])\n",
    "        result[month] = rmse\n",
    "        \n",
    "    result_list.append(result)"
   ]
  },
  {
   "cell_type": "code",
   "execution_count": null,
   "id": "bd216688-9ab3-4947-ab8c-1c3f23c19147",
   "metadata": {},
   "outputs": [],
   "source": [
    "df = pd.DataFrame(result_list)\n",
    "\n",
    "df = df.round(0)\n",
    "df.Model.replace(name_mask, inplace=True)\n",
    "df.FS = df.FS.str.upper()\n",
    "\n",
    "df['Mean'] = df.iloc[:,2:].mean(axis=1)\n",
    "df = df.sort_values(by='Mean', ascending=False)\n",
    "df = df.drop(columns='Mean')"
   ]
  },
  {
   "cell_type": "code",
   "execution_count": null,
   "id": "c0e0ef74-618d-49ad-8037-d6255dede64c",
   "metadata": {},
   "outputs": [],
   "source": [
    "df.iloc[:,2:] = df.iloc[:,2:].astype(int)"
   ]
  },
  {
   "cell_type": "code",
   "execution_count": null,
   "id": "9c0277a8-3a31-486b-95d1-1ce23a0d5308",
   "metadata": {},
   "outputs": [],
   "source": [
    "df"
   ]
  },
  {
   "cell_type": "code",
   "execution_count": null,
   "id": "c3791df5-067a-48d3-a103-3e1ef0ca4b58",
   "metadata": {},
   "outputs": [],
   "source": [
    "df.median(numeric_only=True)"
   ]
  },
  {
   "cell_type": "code",
   "execution_count": null,
   "id": "cfe90049-afbd-4e2b-8009-015cc2f931e5",
   "metadata": {},
   "outputs": [],
   "source": [
    "df.to_latex(\n",
    "    buf = here() / 'output/tables/monthly_performance.tex',\n",
    "    #float_format='%.0f',\n",
    "    column_format='rp{5pt}p{5pt}p{5pt}p{5pt}p{5pt}p{5pt}p{5pt}p{5pt}p{5pt}p{5pt}p{5pt}p{5pt}p{5pt}',\n",
    "    label='tab:monthly_performance',\n",
    "    caption='Monthly performance of the tested models in RMSE.\\\n",
    "    FS = feature set',\n",
    "    position='H',\n",
    "    index=False,\n",
    "    na_rep='-'\n",
    ")"
   ]
  },
  {
   "cell_type": "code",
   "execution_count": null,
   "id": "49d5b487-bd09-4918-a734-756505178902",
   "metadata": {},
   "outputs": [],
   "source": [
    "# Plot\n",
    "df['Model'] = df['Model'] + '-' + df['FS']\n",
    "df = df.drop(columns='FS')\n",
    "df = df.set_index('Model')"
   ]
  },
  {
   "cell_type": "code",
   "execution_count": null,
   "id": "7725e9b5-30da-49ba-bc0b-fe8a103ecc47",
   "metadata": {},
   "outputs": [],
   "source": [
    "df.T.plot(kind='bar', width=.8)"
   ]
  }
 ],
 "metadata": {
  "kernelspec": {
   "display_name": "ed-tft-3",
   "language": "python",
   "name": "ed-tft-3"
  },
  "language_info": {
   "codemirror_mode": {
    "name": "ipython",
    "version": 3
   },
   "file_extension": ".py",
   "mimetype": "text/x-python",
   "name": "python",
   "nbconvert_exporter": "python",
   "pygments_lexer": "ipython3",
   "version": "3.11.4"
  }
 },
 "nbformat": 4,
 "nbformat_minor": 5
}
