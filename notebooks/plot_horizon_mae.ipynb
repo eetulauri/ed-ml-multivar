{
 "cells": [
  {
   "cell_type": "code",
   "execution_count": null,
   "id": "54ef91e7-0054-492a-b945-6607efff8076",
   "metadata": {},
   "outputs": [],
   "source": [
    "import pandas as pd\n",
    "from pyprojroot import here\n",
    "import numpy as np\n",
    "from pathlib import Path\n",
    "\n",
    "import matplotlib.pyplot as plt\n",
    "from sklearn.metrics import mean_squared_error\n",
    "\n",
    "from nutils import interval_score, colordict, name_mask"
   ]
  },
  {
   "cell_type": "code",
   "execution_count": null,
   "id": "602cdb6c-f37f-40c5-b258-2f28a948faff",
   "metadata": {
    "tags": [
     "parameters"
    ]
   },
   "outputs": [],
   "source": [
    "TARGET = 'occ'\n",
    "FS = 'a'\n",
    "T = 80\n",
    "HPO = 1"
   ]
  },
  {
   "cell_type": "code",
   "execution_count": null,
   "id": "e5638151-e82b-43f8-9d7e-b3d57fa5cf58",
   "metadata": {},
   "outputs": [],
   "source": [
    "true_matrix = pd.read_csv(\n",
    "    here() / f'data/processed/true_matrices/{TARGET}.csv',\n",
    "    index_col='datetime',\n",
    "    parse_dates=True\n",
    ")"
   ]
  },
  {
   "cell_type": "code",
   "execution_count": null,
   "id": "cdc3a403-7cd0-42c5-8c96-d9e91d7a8d97",
   "metadata": {},
   "outputs": [],
   "source": [
    "result_list = list()\n",
    "\n",
    "data_path = Path('data/processed/prediction_matrices/')\n",
    "\n",
    "for p in here(data_path / '50').glob(f'*-1.csv'):\n",
    "    result = dict()\n",
    "    \n",
    "    parts = p.stem.split('-')\n",
    "    model = parts[1]\n",
    "    fs = parts[2]\n",
    "    \n",
    "    if fs=='f':\n",
    "        fs='a'\n",
    "    \n",
    "    if fs==FS:\n",
    "        pred_matrix = pd.read_csv(\n",
    "            p, \n",
    "            index_col='datetime', \n",
    "            parse_dates=True)\n",
    "\n",
    "        idx = pred_matrix.dropna().index.intersection(true_matrix.dropna().index)\n",
    "\n",
    "        pred_vector = pred_matrix.loc[idx]\n",
    "        true_vector = true_matrix.loc[idx]\n",
    "\n",
    "        # mae\n",
    "        error_vector = np.abs(pred_vector - true_vector).mean()\n",
    "        error_vector.name = model\n",
    "        result_list.append(error_vector)"
   ]
  },
  {
   "cell_type": "code",
   "execution_count": null,
   "id": "21f51c43-fb54-4f07-abed-a3872a621edd",
   "metadata": {},
   "outputs": [],
   "source": [
    "errors = pd.concat(result_list, axis=1)"
   ]
  },
  {
   "cell_type": "code",
   "execution_count": null,
   "id": "19a975b0-d631-426f-b585-0467a44bd9b8",
   "metadata": {},
   "outputs": [],
   "source": [
    "fig, ax = plt.subplots(figsize=(5,5))\n",
    "\n",
    "errors.plot(ax=ax,\n",
    "            color=[colordict.get(x, 'grey') for x in errors.columns])\n",
    "\n",
    "ax.set_ylim(bottom=0, top=16)\n",
    "ax.set_xlim(left=0, right=23)\n",
    "ax.legend([name_mask[x] for x in errors.columns], frameon=False, loc=4);\n",
    "ax.set_ylabel('MAE');\n",
    "ax.set_xlabel('Forecast horizon / Hour of day');\n",
    "ax.grid(lw=.3, ls='--')\n",
    "\n",
    "plt.savefig(here() / f'output/plots/horizon_mae-{FS}-{HPO}.jpg', \n",
    "            dpi=300, bbox_inches='tight')"
   ]
  },
  {
   "cell_type": "code",
   "execution_count": null,
   "id": "577d3a4e",
   "metadata": {},
   "outputs": [],
   "source": [
    "diff = np.abs(errors - errors.iloc[0]) / errors.iloc[0]\n",
    "diff = (diff * 100).round(0).astype(int)\n",
    "diff.to_latex(\n",
    "    buf=here() / f'output/tables/horizon_mae-{FS}.tex',\n",
    ")"
   ]
  }
 ],
 "metadata": {
  "kernelspec": {
   "display_name": "ed-tft-3",
   "language": "python",
   "name": "ed-tft-3"
  },
  "language_info": {
   "codemirror_mode": {
    "name": "ipython",
    "version": 3
   },
   "file_extension": ".py",
   "mimetype": "text/x-python",
   "name": "python",
   "nbconvert_exporter": "python",
   "pygments_lexer": "ipython3",
   "version": "3.8.13"
  }
 },
 "nbformat": 4,
 "nbformat_minor": 5
}
