{
 "cells": [
  {
   "cell_type": "code",
   "execution_count": null,
   "id": "d53e8076-87fd-4f28-becf-5f669ef96d08",
   "metadata": {},
   "outputs": [],
   "source": [
    "import optuna\n",
    "from pyprojroot import here\n",
    "import joblib\n",
    "\n",
    "# You can use Matplotlib instead of Plotly for visualization by simply replacing `optuna.visualization` with\n",
    "# `optuna.visualization.matplotlib` in the following examples.\n",
    "from optuna.visualization.matplotlib import plot_contour\n",
    "from optuna.visualization.matplotlib import plot_edf\n",
    "from optuna.visualization.matplotlib import plot_intermediate_values\n",
    "from optuna.visualization.matplotlib import plot_optimization_history\n",
    "from optuna.visualization.matplotlib import plot_parallel_coordinate\n",
    "from optuna.visualization.matplotlib import plot_param_importances\n",
    "from optuna.visualization.matplotlib import plot_slice\n",
    "\n",
    "import matplotlib.pyplot as plt\n",
    "plt.rcParams[\"figure.dpi\"] = 300"
   ]
  },
  {
   "cell_type": "code",
   "execution_count": null,
   "id": "6232018c-e457-4564-97ec-af64763f314c",
   "metadata": {},
   "outputs": [],
   "source": [
    "MODEL = 'deepar'\n",
    "TARGET = 'occ'\n",
    "FS = 'a'"
   ]
  },
  {
   "cell_type": "code",
   "execution_count": null,
   "id": "0888cce4-400d-4d43-9170-5f7d45a16a8b",
   "metadata": {},
   "outputs": [],
   "source": [
    "path = here() / f'data/processed/studies/{TARGET}-{MODEL}-{FS}-1.pkl'\n",
    "study = joblib.load(str(path))"
   ]
  },
  {
   "cell_type": "code",
   "execution_count": null,
   "id": "bc40d29f-6a53-415a-bd5e-467c2fc9cb07",
   "metadata": {},
   "outputs": [],
   "source": [
    "plot_contour(study);"
   ]
  },
  {
   "cell_type": "code",
   "execution_count": null,
   "id": "1f7dba79-95f6-415e-8f4c-b608b4c17982",
   "metadata": {},
   "outputs": [],
   "source": [
    "plot_edf(study);"
   ]
  },
  {
   "cell_type": "code",
   "execution_count": null,
   "id": "5f663445-1a59-4ed6-b005-1eed382fff30",
   "metadata": {},
   "outputs": [],
   "source": [
    "plot_optimization_history(study);\n",
    "plt.savefig(here() / f'output/plots/hpo_history_{TARGET}-{MODEL}-{FS}.jpg', \n",
    "            dpi=300, bbox_inches='tight')"
   ]
  },
  {
   "cell_type": "code",
   "execution_count": null,
   "id": "be7a521a-cd92-45e5-8503-6d807febf07f",
   "metadata": {},
   "outputs": [],
   "source": [
    "plot_parallel_coordinate(study);"
   ]
  },
  {
   "cell_type": "code",
   "execution_count": null,
   "id": "2bfb9178-319e-48d1-937e-4d187566cbbf",
   "metadata": {},
   "outputs": [],
   "source": [
    "plot_param_importances(study)"
   ]
  },
  {
   "cell_type": "code",
   "execution_count": null,
   "id": "ae6b2de3-d486-450e-822f-f1a1754da392",
   "metadata": {},
   "outputs": [],
   "source": [
    "plot_slice(study);"
   ]
  },
  {
   "cell_type": "code",
   "execution_count": null,
   "id": "10d73dc0-f274-4201-8914-a898bee59e73",
   "metadata": {},
   "outputs": [],
   "source": [
    "study.best_params"
   ]
  }
 ],
 "metadata": {
  "kernelspec": {
   "display_name": "ed-tft-3",
   "language": "python",
   "name": "ed-tft-3"
  },
  "language_info": {
   "codemirror_mode": {
    "name": "ipython",
    "version": 3
   },
   "file_extension": ".py",
   "mimetype": "text/x-python",
   "name": "python",
   "nbconvert_exporter": "python",
   "pygments_lexer": "ipython3",
   "version": "3.8.13"
  }
 },
 "nbformat": 4,
 "nbformat_minor": 5
}
