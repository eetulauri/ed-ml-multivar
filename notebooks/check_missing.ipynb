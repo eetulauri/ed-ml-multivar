{
 "cells": [
  {
   "cell_type": "code",
   "execution_count": null,
   "metadata": {},
   "outputs": [],
   "source": [
    "import pandas as pd\n",
    "from pyprojroot import here\n",
    "data = pd.read_csv(here() / 'data/raw/data.csv', parse_dates=True, index_col='datetime')\n",
    "\n",
    "drop_these = ['Beds:HC_10', \n",
    "              'Beds:HC_11_(Ward_01)',\n",
    "              'Beds:HC_11_(Ward_02)',\n",
    "              'Beds:HC_11_(Ward_03)',\n",
    "              'Beds:UH_(Ward_01)',\n",
    "              'Beds:UH_(Ward_02)',\n",
    "              'Beds:HC_14',\n",
    "              'Beds:RH_B_(Ward_01)',\n",
    "              'Beds:RH_B_(Ward_02)'\n",
    "              ]\n",
    "\n",
    "data = data.drop(columns=drop_these)\n",
    "mask = data.columns.str.startswith('Beds')\n",
    "hospitals = data.loc[:,mask]\n",
    "missing = hospitals.isna().sum().sort_values()\n",
    "hours = hospitals.values.flatten().shape\n",
    "hours\n",
    "missing.sum()\n",
    "missing.sum() / hours\n",
    "proportional = missing / hospitals.shape[0]\n",
    "pd.concat([missing, proportional], axis=1)"
   ]
  }
 ],
 "metadata": {
  "kernelspec": {
   "display_name": "ed-tft-3",
   "language": "python",
   "name": "ed-tft-3"
  },
  "language_info": {
   "codemirror_mode": {
    "name": "ipython",
    "version": 3
   },
   "file_extension": ".py",
   "mimetype": "text/x-python",
   "name": "python",
   "nbconvert_exporter": "python",
   "pygments_lexer": "ipython3",
   "version": "3.11.4"
  }
 },
 "nbformat": 4,
 "nbformat_minor": 4
}
