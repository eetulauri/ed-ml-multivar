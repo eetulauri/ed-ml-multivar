{
 "cells": [
  {
   "cell_type": "code",
   "execution_count": null,
   "id": "3616bb60-012e-4e88-bc0e-49a33b41e3dd",
   "metadata": {},
   "outputs": [],
   "source": [
    "import pandas as pd\n",
    "from pyprojroot import here"
   ]
  },
  {
   "cell_type": "code",
   "execution_count": null,
   "id": "2a751785-e8d6-4cf0-8b11-d61cf1402aa0",
   "metadata": {},
   "outputs": [],
   "source": [
    "MODEL = 'hwdm'\n",
    "TARGET = 'occ'\n",
    "FS = 'u'"
   ]
  },
  {
   "cell_type": "code",
   "execution_count": null,
   "id": "577cad7c-1644-41c4-868f-bd590921d954",
   "metadata": {},
   "outputs": [],
   "source": [
    "true_matrix = pd.read_csv(\n",
    "    here() / f'data/processed/true_matrices/{TARGET}.csv',\n",
    "    index_col='datetime',\n",
    "    parse_dates=True\n",
    ")"
   ]
  },
  {
   "cell_type": "code",
   "execution_count": null,
   "id": "46bfefb8-2934-4c1f-a71a-1dbb5d662040",
   "metadata": {},
   "outputs": [],
   "source": [
    "path = here() / f'data/processed/prediction_matrices/50/{TARGET}-{MODEL}-{FS}.csv'\n",
    "\n",
    "pred_matrix = pd.read_csv(\n",
    "        path,\n",
    "        index_col='datetime', \n",
    "        parse_dates=True)"
   ]
  },
  {
   "cell_type": "code",
   "execution_count": null,
   "id": "c28e49fb-c1ad-4070-a683-b00778a7aae5",
   "metadata": {},
   "outputs": [],
   "source": [
    "y_true = true_matrix.iloc[:,1]\n",
    "y_pred = pred_matrix.iloc[:,1]\n",
    "\n",
    "df = pd.DataFrame({'y_true' : y_true, 'y_pred':y_pred})\n",
    "df.dropna().plot()"
   ]
  }
 ],
 "metadata": {
  "kernelspec": {
   "display_name": "ed-tft-3",
   "language": "python",
   "name": "ed-tft-3"
  },
  "language_info": {
   "codemirror_mode": {
    "name": "ipython",
    "version": 3
   },
   "file_extension": ".py",
   "mimetype": "text/x-python",
   "name": "python",
   "nbconvert_exporter": "python",
   "pygments_lexer": "ipython3",
   "version": "3.8.13"
  }
 },
 "nbformat": 4,
 "nbformat_minor": 5
}
