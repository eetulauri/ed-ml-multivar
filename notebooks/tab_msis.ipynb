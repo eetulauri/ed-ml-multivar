{
 "cells": [
  {
   "cell_type": "code",
   "execution_count": null,
   "id": "42feb5c5-74b0-4a95-99d0-a97d38563e92",
   "metadata": {},
   "outputs": [],
   "source": [
    "import pandas as pd\n",
    "from pyprojroot import here\n",
    "import numpy as np\n",
    "\n",
    "from nutils import interval_score"
   ]
  },
  {
   "cell_type": "code",
   "execution_count": null,
   "id": "3fad41c5-1328-41be-aae1-142bec9fb3aa",
   "metadata": {},
   "outputs": [],
   "source": [
    "TARGET = 'occ'"
   ]
  },
  {
   "cell_type": "code",
   "execution_count": null,
   "id": "5c4f70db-e690-476e-a5b2-3c1ebdf57b94",
   "metadata": {},
   "outputs": [],
   "source": [
    "true_matrix = pd.read_csv(\n",
    "    here() / f'data/processed/true_matrices/{TARGET}.csv',\n",
    "    index_col='datetime',\n",
    "    parse_dates=True\n",
    ")"
   ]
  },
  {
   "cell_type": "code",
   "execution_count": null,
   "id": "347c56bb-740b-4dfe-93ee-c83e38994946",
   "metadata": {},
   "outputs": [],
   "source": [
    "result_list = list()\n",
    "\n",
    "for lpath in here('data/processed/prediction_matrices/05').glob('*.csv'):\n",
    "    \n",
    "    result = dict()\n",
    "    \n",
    "    parts = lpath.stem.split('-')\n",
    "    \n",
    "    result['Model'] = parts[1].upper()\n",
    "    result['FS'] = parts[2].upper()\n",
    "    result['HPO'] = parts[3]\n",
    "    \n",
    "    l = pd.read_csv(\n",
    "        lpath, \n",
    "        index_col='datetime', \n",
    "        parse_dates=True\n",
    "    )\n",
    "    \n",
    "    upath = here() / 'data/processed/prediction_matrices/95'\n",
    "    upath = upath / f\"{lpath.stem}.csv\"\n",
    "    \n",
    "    u = pd.read_csv(\n",
    "        upath, \n",
    "        index_col='datetime', \n",
    "        parse_dates=True\n",
    "    ).dropna()\n",
    "    print(lpath)\n",
    "    true_vector = true_matrix.loc[u.index].dropna()\n",
    "    \n",
    "    l_vector = l.loc[true_vector.index].values.flatten()\n",
    "    u_vector = u.loc[true_vector.index].values.flatten()\n",
    "    true_vector = true_vector.values.flatten()\n",
    "    \n",
    "    try:\n",
    "        msis = interval_score(\n",
    "            observations=true_vector,\n",
    "            alpha=0.05, \n",
    "            q_left=l_vector, \n",
    "            q_right=u_vector,\n",
    "            mean=True,\n",
    "            scaled=True,\n",
    "            seasonality=24\n",
    "        )\n",
    "    except Exception as e:\n",
    "        msis = np.nan\n",
    "        print(f'Encountered error when calculating MSIS for {p.stem}')\n",
    "        print(e)\n",
    "        \n",
    "    result['MSIS'] = msis.round(2)\n",
    "    result_list.append(result)"
   ]
  },
  {
   "cell_type": "code",
   "execution_count": null,
   "id": "550de982-9e2a-407e-b48c-7693f33193f3",
   "metadata": {},
   "outputs": [],
   "source": [
    "df = pd.DataFrame(result_list)\n",
    "df = df.sort_values(by='MSIS', ascending=False)\n",
    "df = df.set_index('Model')"
   ]
  },
  {
   "cell_type": "code",
   "execution_count": null,
   "id": "aa39d2e1-54aa-411b-9d67-973d0f4c8e2a",
   "metadata": {},
   "outputs": [],
   "source": [
    "df"
   ]
  },
  {
   "cell_type": "code",
   "execution_count": null,
   "id": "c41099b9-3927-41db-a5f2-79193e1c2378",
   "metadata": {},
   "outputs": [],
   "source": [
    "df.to_latex(\n",
    "    buf=here() / 'output/tables/msis.tex',\n",
    "    float_format='%.2f',\n",
    "    column_format='rccc',\n",
    "    label='tab:msis',\n",
    "    caption='Mean scaled interval score (MSIS) for the tested models',\n",
    "    position='h'\n",
    ")"
   ]
  }
 ],
 "metadata": {
  "kernelspec": {
   "display_name": "ed-tft-3",
   "language": "python",
   "name": "ed-tft-3"
  },
  "language_info": {
   "codemirror_mode": {
    "name": "ipython",
    "version": 3
   },
   "file_extension": ".py",
   "mimetype": "text/x-python",
   "name": "python",
   "nbconvert_exporter": "python",
   "pygments_lexer": "ipython3",
   "version": "3.11.4"
  }
 },
 "nbformat": 4,
 "nbformat_minor": 5
}
